{
 "cells": [
  {
   "cell_type": "code",
   "execution_count": 1,
   "metadata": {},
   "outputs": [
    {
     "name": "stdout",
     "output_type": "stream",
     "text": [
      "\n",
      " Twinkle, twinkle little star \n",
      "\n",
      " \t How I wonder what you are!\n",
      "\n",
      " \t \t Up above the world so high,\n",
      "\n",
      " \t \t Like a diamond in the sky.\n",
      "\n",
      " Twinkle,twinkle little star,\n",
      "\n",
      " \t How I wonder what you are.\n"
     ]
    }
   ],
   "source": [
    "# question 1\n",
    "print(\"\\n Twinkle, twinkle little star \")\n",
    "print(\"\\n \\t How I wonder what you are!\")\n",
    "print(\"\\n \\t \\t Up above the world so high,\")\n",
    "print(\"\\n \\t \\t Like a diamond in the sky.\")\n",
    "print(\"\\n Twinkle,twinkle little star,\")\n",
    "print(\"\\n \\t How I wonder what you are.\")"
   ]
  },
  {
   "cell_type": "code",
   "execution_count": 5,
   "metadata": {},
   "outputs": [
    {
     "name": "stdout",
     "output_type": "stream",
     "text": [
      "python version\n",
      "3.7.4 (default, Aug  9 2019, 18:34:13) [MSC v.1915 64 bit (AMD64)]\n",
      "version info.\n",
      "sys.version_info(major=3, minor=7, micro=4, releaselevel='final', serial=0)\n"
     ]
    }
   ],
   "source": [
    "# question 2\n",
    "import sys\n",
    "print(\"python version\")\n",
    "print(sys.version)\n",
    "print(\"version info.\")\n",
    "print(sys.version_info)"
   ]
  },
  {
   "cell_type": "code",
   "execution_count": 8,
   "metadata": {},
   "outputs": [
    {
     "name": "stdout",
     "output_type": "stream",
     "text": [
      "current date and time :\n",
      "19-11-06 13:01:51\n"
     ]
    }
   ],
   "source": [
    "# question 3\n",
    "import datetime\n",
    "now = datetime.datetime.now()\n",
    "print(\"current date and time :\")\n",
    "print(now.strftime(\"%y-%m-%d %H:%M:%S\"))"
   ]
  },
  {
   "cell_type": "code",
   "execution_count": 12,
   "metadata": {},
   "outputs": [
    {
     "ename": "SyntaxError",
     "evalue": "invalid syntax (<ipython-input-12-9c3bd9d51bb3>, line 3)",
     "output_type": "error",
     "traceback": [
      "\u001b[1;36m  File \u001b[1;32m\"<ipython-input-12-9c3bd9d51bb3>\"\u001b[1;36m, line \u001b[1;32m3\u001b[0m\n\u001b[1;33m    print(\"The area of circle with radius\" + (str)r + \" is :\"+str(pi*r**2))\u001b[0m\n\u001b[1;37m                                                  ^\u001b[0m\n\u001b[1;31mSyntaxError\u001b[0m\u001b[1;31m:\u001b[0m invalid syntax\n"
     ]
    }
   ],
   "source": [
    "# question 4\n",
    "from  math import pi\n",
    "r = float(input(\"input the radius of the circle :\"))\n",
    "print(\"The area of circle with radius\" + (str)r + \" is :\"+str(pi*r**2))"
   ]
  },
  {
   "cell_type": "code",
   "execution_count": 13,
   "metadata": {},
   "outputs": [
    {
     "name": "stdout",
     "output_type": "stream",
     "text": [
      "enter first number :3\n",
      "enter second number :4\n",
      "7\n"
     ]
    }
   ],
   "source": [
    "# question 5\n",
    "a = int(input(\"enter first number :\"))\n",
    "b = int(input(\"enter second number :\"))\n",
    "c = a + b\n",
    "print(c)"
   ]
  },
  {
   "cell_type": "code",
   "execution_count": 14,
   "metadata": {},
   "outputs": [
    {
     "name": "stdout",
     "output_type": "stream",
     "text": [
      "Input your first name :Nimra\n",
      "input your last name:Jawed\n",
      "Jawed Nimra\n"
     ]
    }
   ],
   "source": [
    "# question 6\n",
    "fname = input(\"Input your first name :\")\n",
    "lname = input(\"input your last name:\")\n",
    "print(lname + \" \" + fname)"
   ]
  },
  {
   "cell_type": "code",
   "execution_count": null,
   "metadata": {},
   "outputs": [],
   "source": []
  },
  {
   "cell_type": "code",
   "execution_count": null,
   "metadata": {},
   "outputs": [],
   "source": []
  }
 ],
 "metadata": {
  "kernelspec": {
   "display_name": "Python 3",
   "language": "python",
   "name": "python3"
  },
  "language_info": {
   "codemirror_mode": {
    "name": "ipython",
    "version": 3
   },
   "file_extension": ".py",
   "mimetype": "text/x-python",
   "name": "python",
   "nbconvert_exporter": "python",
   "pygments_lexer": "ipython3",
   "version": "3.7.4"
  }
 },
 "nbformat": 4,
 "nbformat_minor": 2
}
