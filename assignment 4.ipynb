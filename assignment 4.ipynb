{
 "cells": [
  {
   "cell_type": "code",
   "execution_count": 1,
   "metadata": {},
   "outputs": [
    {
     "name": "stdout",
     "output_type": "stream",
     "text": [
      "{'first name': 'Ahmad', 'last name': 'Kashif', 'age': '24', 'city': 'Karachi'}\n",
      "{'first name': 'Ahmad', 'last name': 'Kashif', 'age': '24', 'city': 'Karachi', 'Qualification': 'BCS'}\n",
      "{'first name': 'Ahmad', 'last name': 'Kashif', 'age': '24', 'city': 'Karachi'}\n"
     ]
    }
   ],
   "source": [
    "# question 1\n",
    "\t\n",
    "employer = {\"first name\":\"Ahmad\", \"last name\":\"Kashif\", \"age\":\"24\",\"city\":\"Karachi\"}\n",
    "print(employer)\n",
    "employer[\"Qualification\"]=\"BCS\"\n",
    "print(employer)\n",
    "del employer[\"Qualification\"]\n",
    "print(employer)\n"
   ]
  },
  {
   "cell_type": "code",
   "execution_count": 2,
   "metadata": {},
   "outputs": [
    {
     "name": "stdout",
     "output_type": "stream",
     "text": [
      "{'Karachi': {'country': 'Pakistan', 'population': '14.91 million', 'fact': 'Karachi is known as city of lights'}, 'Istanbul': {'country': 'Turkey', 'population': '15.07 million', 'fact': 'Istanbul is the only city in the world which is both in Europe and Asia geographically'}, 'Makkah': {'country': 'saudi Arab', 'population': '1.535 million', 'fact': 'Holest city'}}\n"
     ]
    }
   ],
   "source": [
    "# Question 2\n",
    "cities={\t\n",
    "    \"Karachi\":\n",
    "    {\n",
    "        \"country\":\"Pakistan\",\n",
    "        \"population\":\"14.91 million\",\n",
    "        \"fact\":\"Karachi is known as city of lights\",\n",
    "    },\n",
    "    \"Istanbul\":\n",
    "    {\n",
    "        \"country\":\"Turkey\",\n",
    "        \"population\":\"15.07 million\",\n",
    "        \"fact\":\"Istanbul is the only city in the world which is both in Europe and Asia geographically\",\n",
    "    },\n",
    "    \"Makkah\":\n",
    "    {\n",
    "        \"country\":\"saudi Arab\",\n",
    "        \"population\":\"1.535 million\",\n",
    "        \"fact\":\"Holest city\",\n",
    "    },\n",
    "}\n",
    "print(cities)\n"
   ]
  },
  {
   "cell_type": "code",
   "execution_count": 3,
   "metadata": {},
   "outputs": [
    {
     "name": "stdout",
     "output_type": "stream",
     "text": [
      "How old are you?\n",
      " Enter 'quit' when you are finished3\n",
      "your ticket is $10\n",
      "How old are you?\n",
      " Enter 'quit' when you are finishedquit\n"
     ]
    }
   ],
   "source": [
    "# question 3\n",
    "prompt = \"How old are you?\"\n",
    "prompt += \"\\n Enter 'quit' when you are finished\"\n",
    "\t\n",
    "while True:\n",
    "    age = input (prompt)\n",
    "    if age == \"quit\":\n",
    "        break\n",
    "    age = int(age)\n",
    "    \n",
    "    if age<3:\n",
    "        print(\"free entry\")\n",
    "    elif age <12:\n",
    "        print(\"your ticket is $10\")\n",
    "    else:\n",
    "        print(\"your ticket is $15\")"
   ]
  },
  {
   "cell_type": "code",
   "execution_count": 4,
   "metadata": {},
   "outputs": [
    {
     "name": "stdout",
     "output_type": "stream",
     "text": [
      "alice in the wonderland is one of my favourite books.\n"
     ]
    }
   ],
   "source": [
    "# question 4\n",
    "def favourite_book(title):\n",
    "    print(title + \" is one of my favourite books.\")\n",
    "favourite_book(\"alice in the wonderland\")\n"
   ]
  },
  {
   "cell_type": "code",
   "execution_count": 5,
   "metadata": {},
   "outputs": [
    {
     "name": "stdout",
     "output_type": "stream",
     "text": [
      "Random number has been generated\n",
      "Your guess pleas: 4\n",
      "Try one more time, a bit higher\n",
      "Your guess pleas: 6\n",
      "Try one more time, a bit higher\n",
      "Your guess pleas: 18\n",
      "Try one more time, a bit lower\n",
      "Your guess pleas: 14\n",
      "Try one more time, a bit higher\n",
      "Your guess pleas: 15\n",
      "Try one more time, a bit higher\n",
      "Your guess pleas: 16\n",
      "Well done!\n",
      "End of program\n"
     ]
    }
   ],
   "source": [
    "# question 5\n",
    "import random\n",
    "randomNumber = random.randrange(0,30)\n",
    "print(\"Random number has been generated\")\n",
    "guessed = False\n",
    "while guessed==False:\n",
    "    userInput = int(input(\"Your guess pleas: \"))\n",
    "    if userInput==randomNumber:\n",
    "        guessed = True\n",
    "        print(\"Well done!\")\n",
    "    elif userInput>30:\n",
    "        print(\"Our guess range is between 0 and 30, please try a bit lower\")\n",
    "    elif userInput<0:\n",
    "        print(\"Our guess range is between 0 and 30, please try a bit higher\")\n",
    "    elif userInput>randomNumber:\n",
    "        print(\"Try one more time, a bit lower\")\n",
    "    elif userInput < randomNumber:\n",
    "        print(\"Try one more time, a bit higher\")\n",
    "\n",
    "print(\"End of program\")\t\n"
   ]
  },
  {
   "cell_type": "code",
   "execution_count": null,
   "metadata": {},
   "outputs": [],
   "source": []
  }
 ],
 "metadata": {
  "kernelspec": {
   "display_name": "Python 3",
   "language": "python",
   "name": "python3"
  },
  "language_info": {
   "codemirror_mode": {
    "name": "ipython",
    "version": 3
   },
   "file_extension": ".py",
   "mimetype": "text/x-python",
   "name": "python",
   "nbconvert_exporter": "python",
   "pygments_lexer": "ipython3",
   "version": "3.7.4"
  }
 },
 "nbformat": 4,
 "nbformat_minor": 2
}
