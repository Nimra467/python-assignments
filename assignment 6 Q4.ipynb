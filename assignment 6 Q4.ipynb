{
 "cells": [
  {
   "cell_type": "code",
   "execution_count": 11,
   "metadata": {},
   "outputs": [
    {
     "name": "stdout",
     "output_type": "stream",
     "text": [
      "4wheels\n",
      "18 Kilometers per liters\n",
      "toyota\n"
     ]
    }
   ],
   "source": [
    "#Question 4 of assignment 6\n",
    "class  cars():\n",
    "    def __init__(self,name,model,color):\n",
    "        self.name = name\n",
    "        self.model = model\n",
    "        self.color = color\n",
    "    def wheels(self,wheels):\n",
    "        print(\"{}wheels\".format(wheels))\n",
    "        \n",
    "    def speed(self,Km):\n",
    "        print(\"{} Kilometers per liters\".format(Km))\n",
    "    \n",
    "    def year(self,year):\n",
    "        print(\"{}\".format(year))\n",
    "my_car=cars(\"toyota\",\"corolla\",\"black\")\n",
    "my_car.wheels(4)\n",
    "my_car.speed(18)\n",
    "print(my_car.name)"
   ]
  },
  {
   "cell_type": "code",
   "execution_count": null,
   "metadata": {},
   "outputs": [],
   "source": []
  }
 ],
 "metadata": {
  "kernelspec": {
   "display_name": "Python 3",
   "language": "python",
   "name": "python3"
  },
  "language_info": {
   "codemirror_mode": {
    "name": "ipython",
    "version": 3
   },
   "file_extension": ".py",
   "mimetype": "text/x-python",
   "name": "python",
   "nbconvert_exporter": "python",
   "pygments_lexer": "ipython3",
   "version": "3.7.4"
  }
 },
 "nbformat": 4,
 "nbformat_minor": 2
}
