{
 "cells": [
  {
   "cell_type": "markdown",
   "metadata": {},
   "source": [
    "Q=define object oriented programming? \n",
    "Object-oriented programming (OOP) is a programming language \n",
    "model in which programs are organized around data, or objects, \n",
    "rather than functions and logic. \n",
    "An object can be defined as a data field that has unique \n",
    "attributes and behavior. Examples of an object can range from physical entities,\n",
    "such as a human being that is described by properties like name and address"
   ]
  },
  {
   "cell_type": "markdown",
   "metadata": {},
   "source": [
    "Q = List down the benifits of OOPS?\n",
    " *) Code reuse and recycling\n",
    " *)Improved software-development productivity\n",
    " *)improved software maintaibability\n",
    " *)faster development\n",
    " *)lower cost of development\n",
    " *)Encapsulation"
   ]
  },
  {
   "cell_type": "markdown",
   "metadata": {},
   "source": [
    "Q= diff between function and methods?\n",
    "A function is a piece of code that is called by name. It can be passed data to operate on (i.e. the parameters) and can optionally return data (the return value). All data that is passed to a function is explicitly passed.\n",
    "\n",
    "A method is a piece of code that is called by a name that is associated with an object. In most respects it is identical to a function except for two key differences:\n",
    "\n",
    "A method is implicitly passed the object on which it was called.\n",
    "A method is able to operate on data that is contained within the class (remembering that an object is an instance of a class - the class is the definition, the object is an instance of that data).\n"
   ]
  },
  {
   "cell_type": "markdown",
   "metadata": {},
   "source": [
    "Q=Define a class?\n",
    "A class is a code template for creating objects. Objects have member variables and have behaviour associated with them. In python a class is created by the keyword class.\n",
    "\n",
    "An object is created using the constructor of the class. This object will then be called the instance of the class."
   ]
  },
  {
   "cell_type": "markdown",
   "metadata": {},
   "source": [
    "Q = Define object?\n",
    "*)Objects are the basic run-time entities in an object-oriented system\n",
    "*)They may represent a person, a place, a bank account, a table of data or any item that the program must handle.\n",
    "*)When the program is executed thwe objects interact by sending messages to one another.\n",
    "*)objects have two components\n",
    "    1 \"ATTRIBUTES\"\n",
    "    2 \"BEHAVIORS\""
   ]
  },
  {
   "cell_type": "markdown",
   "metadata": {},
   "source": [
    "Q = define ATTRIBUTE?\n",
    "attributes are the properties of object"
   ]
  },
  {
   "cell_type": "markdown",
   "metadata": {},
   "source": [
    "Q = define BEHAVIOR?\n",
    "The behavior of an object is defined by its methods, which are the functions and subroutines defined within the object class. Without class methods, a class would simply be a structure."
   ]
  },
  {
   "cell_type": "code",
   "execution_count": 3,
   "metadata": {},
   "outputs": [],
   "source": [
    "class Car:\n",
    "    def __init__(self,year,make,speed):\n",
    "        self.__year_model=year\n",
    "        self.__make=make\n",
    "        self.__speed=0\n",
    "\n",
    "    #set the arguments for speed,year, and make\n",
    "    def set_year_model(self,year):\n",
    "        self.__year_model=year\n",
    "\n",
    "    def set_make(self,make):\n",
    "        self.__make=make\n",
    "\n",
    "    def set_speed(self,speed):\n",
    "        self.__speed=0\n",
    "\n",
    "    #the returns for speed, year, and make\n",
    "    def get_year_model(self):\n",
    "        return self.__year_model\n",
    "\n",
    "    def get_make(self):\n",
    "        return self.__make\n",
    "    def get_speed(self):\n",
    "        return self.__speed\n",
    "\n",
    "\n",
    "    #methods\n",
    "    def accelerate(self):\n",
    "        self.speed +=5\n",
    "\n",
    "    def brake(self):\n",
    "        self.speed-=5\n",
    "\n",
    "    def get_speed(self):\n",
    "        return self.speed\n",
    "\n",
    "#actuall program\n",
    "#create car object\n",
    "def main():\n",
    "    my_car=Car()\n",
    "\n",
    "    year=print(input('car year: '))\n",
    "    make=print(input('car make: '))\n",
    "    speed= print('Current speed is 0')\n",
    "\n",
    "    #accelerate 5 times\n",
    "\n",
    "    my_car.accelerate()\n",
    "    print('My current speed:',my_car.get_speed())\n",
    "    my_car.accelerate()\n",
    "    print('My current speed:',my_car.get_speed())\n",
    "    my_car.accelerate()\n",
    "    print('My current speed:',my_car.get_speed())\n",
    "    my_car.accelerate()\n",
    "    print('My current speed:',my_car.get_speed())\n",
    "    my_car.accelerate()\n",
    "    print('My current speed:',my_car.get_speed())\n",
    "\n",
    "    #brake five times    my_car.brake()\n",
    "    print('My current speed after brake:',my_car.get_speed())\n",
    "    my_car.brake()\n",
    "    print('My current speed after brake:',my_car.get_speed())\n",
    "    my_car.brake()\n",
    "    print('My current speed after brake:',my_car.get_speed())\n",
    "    my_car.brake()\n",
    "    print('My current speed after brake:',my_car.get_speed())\n",
    "    my_car.brake()\n",
    "    print('My current speed after brake:',my_car.get_speed())"
   ]
  },
  {
   "cell_type": "code",
   "execution_count": null,
   "metadata": {},
   "outputs": [],
   "source": []
  },
  {
   "cell_type": "code",
   "execution_count": null,
   "metadata": {},
   "outputs": [],
   "source": []
  },
  {
   "cell_type": "code",
   "execution_count": null,
   "metadata": {},
   "outputs": [],
   "source": []
  },
  {
   "cell_type": "code",
   "execution_count": null,
   "metadata": {},
   "outputs": [],
   "source": []
  }
 ],
 "metadata": {
  "kernelspec": {
   "display_name": "Python 3",
   "language": "python",
   "name": "python3"
  },
  "language_info": {
   "codemirror_mode": {
    "name": "ipython",
    "version": 3
   },
   "file_extension": ".py",
   "mimetype": "text/x-python",
   "name": "python",
   "nbconvert_exporter": "python",
   "pygments_lexer": "ipython3",
   "version": "3.7.4"
  }
 },
 "nbformat": 4,
 "nbformat_minor": 2
}
