{
 "cells": [
  {
   "cell_type": "code",
   "execution_count": null,
   "metadata": {},
   "outputs": [],
   "source": [
    "# question 1\n",
    "sub1 =int(input(\"Enter marks of first subject:\"))\n",
    "sub2 =int(input(\"Enter marks of second subject:\"))\n",
    "sub3 =int(input(\"Enter marks of third subject:\"))\n",
    "sub4 =int(input(\"Enter marks of fourth subject:\"))\n",
    "sub5 =int(input(\"Enter marks of fifth subject:\"))\n",
    "per = (sub1+sub2+sub3+sub4+sub5)/5\n",
    "if per >= 80 and per <= 100:\n",
    "    print(\"A+\")\n",
    "elif per >= 70 and per <= 80:\n",
    "    print(\"A\")\n",
    "elif per >= 60 and per <= 70:\n",
    "    print(\"B\")\n",
    "elif per >= 50 and per <= 60:\n",
    "    print(\"C\")\n",
    "elif per >= 40 and per <= 50:\n",
    "    print(\"D\")\n",
    "elif per >= 0 and per <= 40:\n",
    "    print(\"F\") "
   ]
  },
  {
   "cell_type": "code",
   "execution_count": null,
   "metadata": {},
   "outputs": [],
   "source": [
    "# ques 2\n",
    "num = int(input(\"Enter a number:\"))\n",
    "mod = num%2\n",
    "if mod > 0:\n",
    "    print(\"This is an odd number.\")\n",
    "else:\n",
    "    print(\"This is an even number.\")\n"
   ]
  },
  {
   "cell_type": "code",
   "execution_count": null,
   "metadata": {},
   "outputs": [],
   "source": [
    "# ques 3\n",
    "    len_list = [1,5,9,\"x\",\"y\",\"z\",20,25]\n",
    "print (\"Number  of items in the  list=\",\n",
    "      len(len_list))"
   ]
  },
  {
   "cell_type": "code",
   "execution_count": null,
   "metadata": {},
   "outputs": [],
   "source": [
    "# ques 4\n",
    "def  sum(numbers):\n",
    "    total = 0\t\n",
    "    for x in numbers:\n",
    "        total += x\n",
    "    return total\n",
    "print(sum((8,2,3,0,7)))"
   ]
  },
  {
   "cell_type": "code",
   "execution_count": null,
   "metadata": {},
   "outputs": [],
   "source": [
    "# ques 5\n",
    "a = [1,1,2,3,5,8,4,21,0,55,89]\n",
    "for i in a:\n",
    "    if i < 5:\n",
    "        print(i)"
   ]
  },
  {
   "cell_type": "code",
   "execution_count": null,
   "metadata": {},
   "outputs": [],
   "source": [
    "# ques 6\n",
    "def max_num_in_list(list):\n",
    "    max=list[0]\n",
    "    for a in list:\n",
    "        if a > max:\n",
    "            max = a\n",
    "    return max\n",
    "print(max_num_in_list([1,2,-8,0]))      "
   ]
  },
  {
   "cell_type": "code",
   "execution_count": null,
   "metadata": {},
   "outputs": [],
   "source": []
  }
 ],
 "metadata": {
  "kernelspec": {
   "display_name": "Python 3",
   "language": "python",
   "name": "python3"
  },
  "language_info": {
   "codemirror_mode": {
    "name": "ipython",
    "version": 3
   },
   "file_extension": ".py",
   "mimetype": "text/x-python",
   "name": "python",
   "nbconvert_exporter": "python",
   "pygments_lexer": "ipython3",
   "version": "3.7.4"
  }
 },
 "nbformat": 4,
 "nbformat_minor": 2
}
